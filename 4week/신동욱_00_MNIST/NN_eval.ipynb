{
 "cells": [
  {
   "cell_type": "code",
   "execution_count": 1,
   "metadata": {},
   "outputs": [],
   "source": [
    "import torch\n",
    "import torch.nn as nn\n",
    "import torch.utils.data as utildata\n",
    "import torchvision.datasets as ds\n",
    "import torchvision.transforms as transforms\n",
    "import os\n",
    "from tkinter import *\n",
    "from PIL import Image,ImageDraw"
   ]
  },
  {
   "cell_type": "code",
   "execution_count": 2,
   "metadata": {},
   "outputs": [],
   "source": [
    "device = torch.device('cuda:0' if torch.cuda.is_available() else 'cpu')\n",
    "classes = 10 # 0~9"
   ]
  },
  {
   "cell_type": "code",
   "execution_count": 3,
   "metadata": {},
   "outputs": [],
   "source": [
    "# Deep NN Midel (feed-forward network)\n",
    "class myNN(nn.Module):\n",
    "  def __init__(self, classes = 10):\n",
    "    super(myNN,self).__init__()\n",
    "    self.layer1 = nn.Linear(in_features=784, out_features=512, bias=True) # layer\n",
    "    self.layer2 = nn.Linear(in_features=512, out_features=512, bias=True)\n",
    "    self.layer3 = nn.Linear(in_features=512, out_features=512, bias=True)\n",
    "    self.layer4 = nn.Linear(in_features=512, out_features=512, bias=True)\n",
    "    self.layer5 = nn.Linear(in_features=512, out_features=256, bias=True)\n",
    "    self.layer6 = nn.Linear(in_features=256, out_features=128, bias=True)\n",
    "    self.layer7 = nn.Linear(in_features=128, out_features=64, bias=True)\n",
    "    self.layer8 = nn.Linear(in_features=64, out_features=10, bias=True)\n",
    "  def forward(self, input):\n",
    "    res = nn.functional.relu(self.layer1(input)) # activation function\n",
    "    res = nn.functional.relu(self.layer2(res))\n",
    "    res = nn.functional.relu(self.layer3(res))\n",
    "    res = nn.functional.relu(self.layer4(res))\n",
    "    res = nn.functional.relu(self.layer5(res))\n",
    "    res = nn.functional.relu(self.layer6(res))\n",
    "    res = nn.functional.relu(self.layer7(res))\n",
    "    res = nn.functional.relu(self.layer8(res))\n",
    "    return res"
   ]
  },
  {
   "cell_type": "code",
   "execution_count": 4,
   "metadata": {},
   "outputs": [],
   "source": [
    "model = myNN(classes).to(device)"
   ]
  },
  {
   "cell_type": "code",
   "execution_count": 5,
   "metadata": {},
   "outputs": [],
   "source": [
    "model.load_state_dict(torch.load('./model/myNN.pkl'))"
   ]
  },
  {
   "cell_type": "code",
   "execution_count": 6,
   "metadata": {},
   "outputs": [
    {
     "data": {
      "text/plain": [
       "myCNN(\n",
       "  (layer1): Sequential(\n",
       "    (0): Conv2d(1, 16, kernel_size=(5, 5), stride=(1, 1), padding=(2, 2))\n",
       "    (1): BatchNorm2d(16, eps=1e-05, momentum=0.1, affine=True, track_running_stats=True)\n",
       "    (2): ReLU()\n",
       "    (3): MaxPool2d(kernel_size=2, stride=2, padding=0, dilation=1, ceil_mode=False)\n",
       "  )\n",
       "  (layer2): Sequential(\n",
       "    (0): Conv2d(16, 32, kernel_size=(5, 5), stride=(1, 1), padding=(2, 2))\n",
       "    (1): BatchNorm2d(32, eps=1e-05, momentum=0.1, affine=True, track_running_stats=True)\n",
       "    (2): ReLU()\n",
       "    (3): MaxPool2d(kernel_size=2, stride=2, padding=0, dilation=1, ceil_mode=False)\n",
       "  )\n",
       "  (fc): Linear(in_features=1568, out_features=10, bias=True)\n",
       ")"
      ]
     },
     "execution_count": 6,
     "metadata": {},
     "output_type": "execute_result"
    }
   ],
   "source": [
    "model.eval()"
   ]
  },
  {
   "cell_type": "code",
   "execution_count": 9,
   "metadata": {},
   "outputs": [
    {
     "data": {
      "text/plain": [
       "5"
      ]
     },
     "execution_count": 9,
     "metadata": {},
     "output_type": "execute_result"
    },
    {
     "data": {
      "image/png": "[encoded data removed]",
      "text/plain": [
       "<Figure size 432x288 with 1 Axes>"
      ]
     },
     "metadata": {
      "needs_background": "light"
     },
     "output_type": "display_data"
    }
   ],
   "source": [
    "from tkinter import *\n",
    "from PIL import Image,ImageDraw\n",
    "import matplotlib\n",
    "import matplotlib.pyplot as plt\n",
    "\n",
    "current_num = -1;\n",
    "def check():\n",
    "    global current_num\n",
    "    global textLabel\n",
    "    img = Image.open('./img/img.png')\n",
    "    loader = transforms.Compose([transforms.Scale(28),transforms.Grayscale(1), transforms.ToTensor()])\n",
    "    img = loader(img).float()\n",
    "    img = abs(img - 1)\n",
    "    img = img.view(-1,784)\n",
    "    img = img.to(device)\n",
    "    outputs = model(img)\n",
    "    _, predicted = torch.max(outputs.data, 1)\n",
    "    return predicted.data.tolist()[0]\n",
    "def checkgo():\n",
    "    try:\n",
    "        a = check()\n",
    "        return a\n",
    "    except:\n",
    "        checkgo()\n",
    "check()"
   ]
  },
  {
   "cell_type": "code",
   "execution_count": 10,
   "metadata": {},
   "outputs": [],
   "source": [
    "class ImageGenerator:\n",
    "    def __init__(self,parent,posx,posy,*kwargs):\n",
    "        self.parent = parent\n",
    "        self.posx = posx\n",
    "        self.posy = posy\n",
    "        self.sizex = 200\n",
    "        self.sizey = 200\n",
    "        self.b1 = \"up\"\n",
    "        self.xold = None\n",
    "        self.yold = None\n",
    "        self.drawing_area=Canvas(self.parent,width=self.sizex,height=self.sizey+10)\n",
    "        self.drawing_area.place(x=self.posx,y=self.posy)\n",
    "        self.drawing_area.bind(\"<Motion>\", self.motion)\n",
    "        self.drawing_area.bind(\"<ButtonPress-1>\", self.b1down)\n",
    "        self.drawing_area.bind(\"<ButtonRelease-1>\", self.b1up)\n",
    "        self.drawing_area.place(x=self.sizex/7,y=self.sizex/7)\n",
    "        self.button=Button(self.parent,text=\"Done!\",width=8,command=self.save)\n",
    "        self.button.place(x=30,y=self.sizey+50)\n",
    "        self.button1=Button(self.parent,text=\"Clear!\",width=8,command=self.clear)\n",
    "        self.button1.place(x=135,y=self.sizey+50)\n",
    "\n",
    "        self.image=Image.new(\"RGB\",(200,200),(255,255,255))\n",
    "        self.draw=ImageDraw.Draw(self.image)\n",
    "\n",
    "    def save(self):\n",
    "        filename = \"./img/img.png\"\n",
    "        self.image.save(filename)\n",
    "        print(\"Predict : \"+ str(checkgo()))\n",
    "\n",
    "    def clear(self):\n",
    "        self.drawing_area.delete(\"all\")\n",
    "        self.image=Image.new(\"RGB\",(200,200),(255,255,255))\n",
    "        self.draw=ImageDraw.Draw(self.image)\n",
    "\n",
    "    def b1down(self,event):\n",
    "        self.b1 = \"down\"\n",
    "\n",
    "    def b1up(self,event):\n",
    "        self.b1 = \"up\"\n",
    "        self.xold = None\n",
    "        self.yold = None\n",
    "\n",
    "    def motion(self,event):\n",
    "        if self.b1 == \"down\":\n",
    "            if self.xold is not None and self.yold is not None:\n",
    "                event.widget.create_line(self.xold,self.yold,event.x,event.y,smooth='true',width=15,fill='black')\n",
    "                self.draw.line(((self.xold,self.yold),(event.x,event.y)),(0,128,0),width=30)\n",
    "\n",
    "        self.xold = event.x\n",
    "        self.yold = event.y"
   ]
  },
  {
   "cell_type": "code",
   "execution_count": 11,
   "metadata": {},
   "outputs": [
    {
     "name": "stdout",
     "output_type": "stream",
     "text": [
      "Predict : 7\n",
      "Predict : 0\n",
      "Predict : 9\n",
      "Predict : 0\n"
     ]
    },
    {
     "data": {
      "image/png": "[encoded data removed]",
      "text/plain": [
       "<Figure size 432x288 with 1 Axes>"
      ]
     },
     "metadata": {
      "needs_background": "light"
     },
     "output_type": "display_data"
    }
   ],
   "source": [
    "root = Tk()\n",
    "root.wm_geometry(\"%dx%d+%d+%d\" % (265, 300, 10, 10))\n",
    "root.config(bg='gray')\n",
    "ImageGenerator(root,10,10)\n",
    "root.mainloop()"
   ]
  },
  {
   "cell_type": "code",
   "execution_count": null,
   "metadata": {},
   "outputs": [],
   "source": []
  }
 ],
 "metadata": {
  "kernelspec": {
   "display_name": "PyTorch",
   "language": "python",
   "name": "pytorch"
  },
  "language_info": {
   "codemirror_mode": {
    "name": "ipython",
    "version": 3
   },
   "file_extension": ".py",
   "mimetype": "text/x-python",
   "name": "python",
   "nbconvert_exporter": "python",
   "pygments_lexer": "ipython3",
   "version": "3.7.3"
  }
 },
 "nbformat": 4,
 "nbformat_minor": 2
}
